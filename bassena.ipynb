{
 "cells": [
  {
   "cell_type": "markdown",
   "source": [
    "Verkauf Statistik in Bassena Tref:\n"
   ],
   "metadata": {
    "collapsed": false
   }
  },
  {
   "cell_type": "code",
   "execution_count": 32,
   "outputs": [
    {
     "ename": "FileNotFoundError",
     "evalue": "[Errno 2] No such file or directory: ''",
     "output_type": "error",
     "traceback": [
      "\u001B[0;31m---------------------------------------------------------------------------\u001B[0m",
      "\u001B[0;31mFileNotFoundError\u001B[0m                         Traceback (most recent call last)",
      "\u001B[0;32m<ipython-input-32-9b6ddc071dae>\u001B[0m in \u001B[0;36m<module>\u001B[0;34m\u001B[0m\n\u001B[1;32m     69\u001B[0m \u001B[0;34m\u001B[0m\u001B[0m\n\u001B[1;32m     70\u001B[0m \u001B[0;34m\u001B[0m\u001B[0m\n\u001B[0;32m---> 71\u001B[0;31m \u001B[0mbassenaoriginal\u001B[0m \u001B[0;34m=\u001B[0m \u001B[0mread_original_csv\u001B[0m\u001B[0;34m(\u001B[0m\u001B[0;34m\"\"\u001B[0m\u001B[0;34m)\u001B[0m\u001B[0;34m\u001B[0m\u001B[0;34m\u001B[0m\u001B[0m\n\u001B[0m\u001B[1;32m     72\u001B[0m \u001B[0;34m\u001B[0m\u001B[0m\n\u001B[1;32m     73\u001B[0m \u001B[0;34m\u001B[0m\u001B[0m\n",
      "\u001B[0;32m<ipython-input-32-9b6ddc071dae>\u001B[0m in \u001B[0;36mread_original_csv\u001B[0;34m(filename)\u001B[0m\n\u001B[1;32m      7\u001B[0m \u001B[0;32mdef\u001B[0m \u001B[0mread_original_csv\u001B[0m\u001B[0;34m(\u001B[0m\u001B[0mfilename\u001B[0m\u001B[0;34m)\u001B[0m\u001B[0;34m:\u001B[0m\u001B[0;34m\u001B[0m\u001B[0;34m\u001B[0m\u001B[0m\n\u001B[1;32m      8\u001B[0m     \u001B[0mread_bf\u001B[0m \u001B[0;34m=\u001B[0m \u001B[0;34m[\u001B[0m\u001B[0;34m]\u001B[0m\u001B[0;34m\u001B[0m\u001B[0;34m\u001B[0m\u001B[0m\n\u001B[0;32m----> 9\u001B[0;31m     \u001B[0;32mwith\u001B[0m \u001B[0mopen\u001B[0m\u001B[0;34m(\u001B[0m\u001B[0mfilename\u001B[0m\u001B[0;34m,\u001B[0m \u001B[0mnewline\u001B[0m\u001B[0;34m=\u001B[0m\u001B[0;34m''\u001B[0m\u001B[0;34m,\u001B[0m \u001B[0mencoding\u001B[0m\u001B[0;34m=\u001B[0m\u001B[0;34m'ISO-8859-1'\u001B[0m\u001B[0;34m)\u001B[0m \u001B[0;32mas\u001B[0m \u001B[0mbf\u001B[0m\u001B[0;34m:\u001B[0m\u001B[0;34m\u001B[0m\u001B[0;34m\u001B[0m\u001B[0m\n\u001B[0m\u001B[1;32m     10\u001B[0m         \u001B[0mcsvreader\u001B[0m \u001B[0;34m=\u001B[0m \u001B[0mcsv\u001B[0m\u001B[0;34m.\u001B[0m\u001B[0mreader\u001B[0m\u001B[0;34m(\u001B[0m\u001B[0mbf\u001B[0m\u001B[0;34m,\u001B[0m \u001B[0mdelimiter\u001B[0m\u001B[0;34m=\u001B[0m\u001B[0;34m\";\"\u001B[0m\u001B[0;34m)\u001B[0m\u001B[0;34m\u001B[0m\u001B[0;34m\u001B[0m\u001B[0m\n\u001B[1;32m     11\u001B[0m         \u001B[0;32mfor\u001B[0m \u001B[0mrow\u001B[0m \u001B[0;32min\u001B[0m \u001B[0mcsvreader\u001B[0m\u001B[0;34m:\u001B[0m\u001B[0;34m\u001B[0m\u001B[0;34m\u001B[0m\u001B[0m\n",
      "\u001B[0;31mFileNotFoundError\u001B[0m: [Errno 2] No such file or directory: ''"
     ]
    }
   ],
   "source": [
    "from numpy import sort\n",
    "import csv\n",
    "import re\n",
    "import statistics\n",
    "import matplotlib.pyplot as plt\n",
    "\n",
    "def read_original_csv(filename):\n",
    "    read_bf = []\n",
    "    with open(filename, newline='', encoding='ISO-8859-1') as bf:\n",
    "        csvreader = csv.reader(bf, delimiter=\";\")\n",
    "        for row in csvreader:\n",
    "            read_bf.append(row)\n",
    "\n",
    "    return read_bf\n",
    "\n",
    "def print_graph(tup, artikel):\n",
    "    # x axis values\n",
    "    x = tup[0]\n",
    "    # corresponding y axis values\n",
    "    y = tup[1]\n",
    "\n",
    "    # plotting the points\n",
    "    plt.plot(x, y)\n",
    "\n",
    "    # naming the x axis\n",
    "    plt.xlabel('Verkaufte artikel pro tag')\n",
    "    # naming the y axis\n",
    "    plt.ylabel('Number of days')\n",
    "\n",
    "    # giving a title to my graph\n",
    "    plt.title(artikel)\n",
    "\n",
    "    # function to show the plot\n",
    "    plt.show()\n",
    "\n",
    "def calculate (artikel):\n",
    "    \n",
    "    counter = 0\n",
    "    datum = \"\"\n",
    "    counter_list = []\n",
    "    \n",
    "    for row in bassenaoriginal:\n",
    "        matchobject = re.search(artikel, row[4])\n",
    "        if matchobject:\n",
    "            if row[0] == datum:\n",
    "                counter += float(row[3].replace(',', '.'))\n",
    "            if row[0] != datum:\n",
    "                counter_list.append(int(counter))\n",
    "                counter = float(row[3].replace(',', '.'))\n",
    "                datum = row[0]\n",
    "\n",
    "\n",
    "    element_list = []\n",
    "    number = 0\n",
    "    counter = 0\n",
    "    for element in sort(counter_list):\n",
    "        if element == number:\n",
    "            counter += 1\n",
    "        if element != number:\n",
    "            element_list.append((number, counter))\n",
    "            counter = 1\n",
    "            number = element\n",
    "\n",
    "    tup = list(zip(*element_list))\n",
    "    mode = statistics.mode(counter_list)\n",
    "    print(f\"mode: {mode}\")\n",
    "\n",
    "    print_graph(tup, artikel)\n",
    "\n",
    "\n",
    "bassenaoriginal = read_original_csv(\"\")\n",
    "\n",
    "\n",
    "print(\"Bio Kaisersemmel\")\n",
    "calculate('ART0012')\n",
    "print(\"Buttercroissant\")\n",
    "calculate('ART0006')\n",
    "print(\"Capuccino\")\n",
    "calculate('ART0022')\n",
    "print(\"Red Bull\")\n",
    "calculate('ART0059')\n",
    "print(\"Wieselburger Bier\")\n",
    "calculate('ART0296')\n",
    "print(\"Puntigamer\")\n",
    "calculate('ART0052')"
   ],
   "metadata": {
    "collapsed": false,
    "pycharm": {
     "name": "#%%\n"
    }
   }
  }
 ],
 "metadata": {
  "kernelspec": {
   "display_name": "Python 3",
   "language": "python",
   "name": "python3"
  },
  "language_info": {
   "codemirror_mode": {
    "name": "ipython",
    "version": 2
   },
   "file_extension": ".py",
   "mimetype": "text/x-python",
   "name": "python",
   "nbconvert_exporter": "python",
   "pygments_lexer": "ipython2",
   "version": "2.7.6"
  }
 },
 "nbformat": 4,
 "nbformat_minor": 0
}